{
 "cells": [
  {
   "cell_type": "code",
   "execution_count": 7,
   "id": "7f471aa9-d5fb-457a-85c7-15cc46eec479",
   "metadata": {},
   "outputs": [],
   "source": [
    "import re\n",
    "import spacy\n",
    "import pdfplumber"
   ]
  },
  {
   "cell_type": "code",
   "execution_count": 8,
   "id": "1aefd431-8abd-4ebc-8d67-1804f7549461",
   "metadata": {},
   "outputs": [
    {
     "name": "stdout",
     "output_type": "stream",
     "text": [
      "Requirement already satisfied: pdfplumber in c:\\users\\hp\\appdata\\local\\programs\\python\\python312\\lib\\site-packages (0.11.6)\n",
      "Requirement already satisfied: pdfminer.six==20250327 in c:\\users\\hp\\appdata\\local\\programs\\python\\python312\\lib\\site-packages (from pdfplumber) (20250327)\n",
      "Requirement already satisfied: Pillow>=9.1 in c:\\users\\hp\\appdata\\local\\programs\\python\\python312\\lib\\site-packages (from pdfplumber) (11.2.1)\n",
      "Requirement already satisfied: pypdfium2>=4.18.0 in c:\\users\\hp\\appdata\\local\\programs\\python\\python312\\lib\\site-packages (from pdfplumber) (4.30.1)\n",
      "Requirement already satisfied: charset-normalizer>=2.0.0 in c:\\users\\hp\\appdata\\local\\programs\\python\\python312\\lib\\site-packages (from pdfminer.six==20250327->pdfplumber) (3.4.2)\n",
      "Requirement already satisfied: cryptography>=36.0.0 in c:\\users\\hp\\appdata\\local\\programs\\python\\python312\\lib\\site-packages (from pdfminer.six==20250327->pdfplumber) (45.0.3)\n",
      "Requirement already satisfied: cffi>=1.14 in c:\\users\\hp\\appdata\\local\\programs\\python\\python312\\lib\\site-packages (from cryptography>=36.0.0->pdfminer.six==20250327->pdfplumber) (1.17.1)\n",
      "Requirement already satisfied: pycparser in c:\\users\\hp\\appdata\\local\\programs\\python\\python312\\lib\\site-packages (from cffi>=1.14->cryptography>=36.0.0->pdfminer.six==20250327->pdfplumber) (2.22)\n"
     ]
    },
    {
     "name": "stderr",
     "output_type": "stream",
     "text": [
      "\n",
      "[notice] A new release of pip is available: 24.0 -> 25.1.1\n",
      "[notice] To update, run: python.exe -m pip install --upgrade pip\n"
     ]
    }
   ],
   "source": [
    "!pip install pdfplumber"
   ]
  },
  {
   "cell_type": "code",
   "execution_count": 9,
   "id": "ff5b0795-18d4-4a88-a486-23b798b69816",
   "metadata": {},
   "outputs": [],
   "source": [
    "nlp= spacy.load(\"en_core_web_sm\")"
   ]
  },
  {
   "cell_type": "code",
   "execution_count": 34,
   "id": "af592cd8-8884-4540-a5e1-507b09bf3681",
   "metadata": {},
   "outputs": [
    {
     "name": "stderr",
     "output_type": "stream",
     "text": [
      "CropBox missing from /Page, defaulting to MediaBox\n",
      "CropBox missing from /Page, defaulting to MediaBox\n",
      "CropBox missing from /Page, defaulting to MediaBox\n",
      "CropBox missing from /Page, defaulting to MediaBox\n"
     ]
    },
    {
     "name": "stdout",
     "output_type": "stream",
     "text": [
      "{'Company': None, 'Invoice date': '04-11-2024', 'Total Amount': '1', 'Pan': 'AABCN1929K'}\n"
     ]
    }
   ],
   "source": [
    "def extract_invoice_data(file_path):\n",
    "    with pdfplumber.open(file_path) as pdf:\n",
    "        text=\"\\n\".join([page.extract_text() for page in pdf.pages if page.extract_text()])\n",
    "\n",
    "        x= nlp(text)\n",
    "        vendor=None\n",
    "        for ent in x.ents:\n",
    "            if ent.label== \"ORG\":\n",
    "                vendor=ent.text\n",
    "                break\n",
    "        date = re.search(r'(\\d{1,2}[/-]\\d{1,2}[/-]\\d{2,4})',text)\n",
    "        in_date= date.group(0) if date else \"Not Found\"\n",
    "\n",
    "        amt=re.search(r'Total(?:Amount)?[:\\s]*\\$?([0-9,.]+)',text)\n",
    "        total=amt.group(1) if amt else \"Not Found\"\n",
    "\n",
    "        Pan=re.search(r'\\b[A-Z]{5}[0-9]{4}[A-Z]\\b',text)\n",
    "        PAN=Pan.group(0) if Pan else \"Not Found\"\n",
    "\n",
    "        \n",
    "\n",
    "        \n",
    "        return{\n",
    "            \"Company\":vendor,\n",
    "            \"Invoice date\": in_date,\n",
    "            \"Total Amount\":total,\n",
    "            \"Pan\":PAN\n",
    "            \n",
    "        }\n",
    "file_path=\"inv.pdf\"\n",
    "invoice_info=extract_invoice_data(file_path)\n",
    "print(invoice_info)\n",
    "            "
   ]
  },
  {
   "cell_type": "code",
   "execution_count": null,
   "id": "1e160c0c-1119-4dca-94e5-7c11708e6365",
   "metadata": {},
   "outputs": [],
   "source": []
  }
 ],
 "metadata": {
  "kernelspec": {
   "display_name": "Python 3 (ipykernel)",
   "language": "python",
   "name": "python3"
  },
  "language_info": {
   "codemirror_mode": {
    "name": "ipython",
    "version": 3
   },
   "file_extension": ".py",
   "mimetype": "text/x-python",
   "name": "python",
   "nbconvert_exporter": "python",
   "pygments_lexer": "ipython3",
   "version": "3.12.4"
  }
 },
 "nbformat": 4,
 "nbformat_minor": 5
}
